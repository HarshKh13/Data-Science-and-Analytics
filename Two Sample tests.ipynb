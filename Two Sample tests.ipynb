{
 "cells": [
  {
   "cell_type": "code",
   "execution_count": 1,
   "id": "5cd070f3",
   "metadata": {},
   "outputs": [],
   "source": [
    "#2 sample\n",
    "#Population mean test, sd known\n",
    "import numpy as np\n",
    "from scipy import stats\n",
    "import pandas as pd"
   ]
  },
  {
   "cell_type": "code",
   "execution_count": 10,
   "id": "2cc93a84",
   "metadata": {},
   "outputs": [],
   "source": [
    "def cal_z_value_2samp_sdknown(sample1_mean,sample2_mean,pop1_sd,\n",
    "                            pop2_sd,sample1_size,sample2_size):\n",
    "    pop1_var = pop1_sd**2\n",
    "    pop2_var = pop2_sd**2\n",
    "    combined_sd = np.sqrt(pop1_var/sample1_size + pop2_var/sample2_size)\n",
    "    z_val = (sample1_mean-sample2_mean)/combined_sd\n",
    "    return z_val\n",
    "\n",
    "\n",
    "def cal_p_value(z_value):\n",
    "    if z_value <= 0:\n",
    "        p_val = stats.norm.cdf(z_value)\n",
    "    else:\n",
    "        p_val = 1 - stats.norm.cdf(z_value)\n",
    "        \n",
    "    return p_val"
   ]
  },
  {
   "cell_type": "code",
   "execution_count": 11,
   "id": "bdc0f574",
   "metadata": {},
   "outputs": [],
   "source": [
    "sample1_mean = 121\n",
    "sample2_mean = 112\n",
    "pop1_sd = 8\n",
    "pop2_sd = 8\n",
    "sample1_size = 10\n",
    "sample2_size = 10"
   ]
  },
  {
   "cell_type": "code",
   "execution_count": 12,
   "id": "9ac4d3dd",
   "metadata": {},
   "outputs": [
    {
     "name": "stdout",
     "output_type": "stream",
     "text": [
      "z-value 2.5155764746872635\n",
      "P-value 0.00594189462107364\n"
     ]
    }
   ],
   "source": [
    "z_val = cal_z_value_2samp_sdknown(sample1_mean,sample2_mean,pop1_sd,\n",
    "                                  pop2_sd,sample1_size,sample2_size)\n",
    "print(\"z-value\",z_val)\n",
    "p_val = cal_p_value(z_val)\n",
    "print(\"P-value\",p_val)"
   ]
  },
  {
   "cell_type": "code",
   "execution_count": 18,
   "id": "aea3e11e",
   "metadata": {},
   "outputs": [],
   "source": [
    "#population mean test, sd unknown\n",
    "#sd assumed equal\n",
    "def cal_z_value_2samp_sdunknownequal(sample1_mean,sample2_mean,sample1_sd,\n",
    "                                sample2_sd,sample1_size,sample2_size,dof):\n",
    "    sample1_var = sample1_sd**2\n",
    "    sample2_var = sample2_sd**2\n",
    "    sample_var = ((sample1_size-1)*sample1_var + (sample2_size-1)*sample2_var)\n",
    "    sample_var = sample_var/dof\n",
    "    sample_sd = np.sqrt(sample_var)\n",
    "    combined_sd = sample_sd*np.sqrt(1/sample1_size + 1/sample2_size)\n",
    "    t_val = (sample1_mean - sample2_mean)/combined_sd\n",
    "    return t_val"
   ]
  },
  {
   "cell_type": "code",
   "execution_count": 19,
   "id": "c654e4db",
   "metadata": {},
   "outputs": [],
   "source": [
    "a = [91.50,94.18,92.18,95.39,91.79,89.07,94.72,89.21]\n",
    "b = [89.19,90.95,90.46,93.21,97.19,97.04,91.07,92.75]\n",
    "sample1_mean = np.mean(a)\n",
    "sample2_mean = np.mean(b)\n",
    "sample1_sd = np.std(a)\n",
    "sample2_sd = np.std(b)\n",
    "sample1_size = len(a)\n",
    "sample2_size = len(b)\n",
    "dof = sample1_size + sample2_size - 2\n",
    "alpha = 0.05"
   ]
  },
  {
   "cell_type": "code",
   "execution_count": 20,
   "id": "69f768dd",
   "metadata": {},
   "outputs": [
    {
     "name": "stdout",
     "output_type": "stream",
     "text": [
      "Z-value -0.37800453413619045\n",
      "P-value 0.3527136128509373\n"
     ]
    }
   ],
   "source": [
    "#p-value approach\n",
    "z_val = cal_z_value_2samp_sdunknownequal(sample1_mean,sample2_mean,sample1_sd,\n",
    "                                         sample2_sd,sample1_size,sample2_size,dof)\n",
    "print(\"Z-value\",z_val)\n",
    "p_val = cal_p_value(z_val)\n",
    "print(\"P-value\",p_val)"
   ]
  },
  {
   "cell_type": "code",
   "execution_count": 22,
   "id": "1101ba45",
   "metadata": {},
   "outputs": [
    {
     "name": "stdout",
     "output_type": "stream",
     "text": [
      "-2.1447866879169277\n"
     ]
    }
   ],
   "source": [
    "#critical value method\n",
    "critical_val = stats.t.ppf(alpha/2,dof)\n",
    "print(critical_val)"
   ]
  },
  {
   "cell_type": "code",
   "execution_count": 23,
   "id": "9750b4c4",
   "metadata": {},
   "outputs": [
    {
     "data": {
      "text/plain": [
       "Ttest_indResult(statistic=-0.3535908643461798, pvalue=0.7289136186068217)"
      ]
     },
     "execution_count": 23,
     "metadata": {},
     "output_type": "execute_result"
    }
   ],
   "source": [
    "#direct method\n",
    "stats.ttest_ind(a,b,equal_var = True)"
   ]
  },
  {
   "cell_type": "code",
   "execution_count": 27,
   "id": "178b01fd",
   "metadata": {},
   "outputs": [],
   "source": [
    "#population mean test, sd unknown\n",
    "#assumed unequal\n",
    "def cal_z_value_2samp_sdunknown_unequal(sample1_mean,sample2_mean,\n",
    "                                        sample1_sd,sample2_sd,sample1_size,\n",
    "                                        sample2_size):\n",
    "    sample1_var = sample1_sd**2\n",
    "    sample2_var = sample2_sd**2\n",
    "    combined_sd = np.sqrt(sample1_var/sample1_size + sample2_var/sample2_size)\n",
    "    z_val = (sample1_mean - sample2_mean)/combined_sd\n",
    "    return z_val\n",
    "\n",
    "def cal_dof_2samp_sdunknown_unequal(sample1_sd,sample2_sd, sample1_size,\n",
    "                                    sample2_size):\n",
    "    sample1_var = sample1_sd**2\n",
    "    sample2_var = sample2_sd**2\n",
    "    deno = (sample1_var/sample1_size)**2/(sample1_size-1)\n",
    "    deno = deno + (sample2_var/sample2_size)**2/(sample2_size-1)\n",
    "    num = (sample1_var/sample1_size) + (sample2_var/sample2_size)\n",
    "    num = num**2\n",
    "    dof = num//deno\n",
    "    return dof"
   ]
  },
  {
   "cell_type": "code",
   "execution_count": 25,
   "id": "8857acf8",
   "metadata": {},
   "outputs": [],
   "source": [
    "a = [3,7,25,10,15,6,12,25,15,7]\n",
    "b = [48,44,40,38,33,21,20,12,1,18]\n",
    "sample1_mean = np.mean(a)\n",
    "sample2_mean = np.mean(b)\n",
    "sample1_sd = np.std(a)\n",
    "sample2_sd = np.std(b)\n",
    "sample1_size = len(a)\n",
    "sample2_size = len(b)"
   ]
  },
  {
   "cell_type": "code",
   "execution_count": 28,
   "id": "2312404f",
   "metadata": {},
   "outputs": [
    {
     "name": "stdout",
     "output_type": "stream",
     "text": [
      "z-value -2.9166104054345077\n",
      "P-value 0.001769287316054508\n"
     ]
    }
   ],
   "source": [
    "#p-value approach\n",
    "z_val = cal_z_value_2samp_sdunknown_unequal(sample1_mean,sample2_mean,\n",
    "                                        sample1_sd,sample2_sd,sample1_size,\n",
    "                                        sample2_size)\n",
    "print(\"z-value\",z_val)\n",
    "p_val = cal_p_value(z_val)\n",
    "print(\"P-value\",p_val)"
   ]
  },
  {
   "cell_type": "code",
   "execution_count": 31,
   "id": "7462d3ca",
   "metadata": {},
   "outputs": [
    {
     "name": "stdout",
     "output_type": "stream",
     "text": [
      "-2.1447866879169277\n"
     ]
    }
   ],
   "source": [
    "#critical value approach\n",
    "dof = cal_dof_2samp_sdunknown_unequal(sample1_sd,sample2_sd, sample1_size,\n",
    "                                    sample2_size)\n",
    "critical_value = stats.t.ppf(alpha/2,dof)\n",
    "print(critical_val)"
   ]
  },
  {
   "cell_type": "code",
   "execution_count": 32,
   "id": "29c85351",
   "metadata": {},
   "outputs": [
    {
     "data": {
      "text/plain": [
       "Ttest_indResult(statistic=-2.7669395785560558, pvalue=0.015827284816100885)"
      ]
     },
     "execution_count": 32,
     "metadata": {},
     "output_type": "execute_result"
    }
   ],
   "source": [
    "#direct method\n",
    "stats.ttest_ind(a,b,equal_var = False)"
   ]
  },
  {
   "cell_type": "code",
   "execution_count": 37,
   "id": "a76a64c5",
   "metadata": {},
   "outputs": [],
   "source": [
    "# 2 sample population proportion\n",
    "def cal_z_value_2samp_prop(sample1_prop,sample2_prop,sample1_size,\n",
    "                           sample2_size):\n",
    "    p_bar = sample1_size*sample1_prop + sample2_size*sample2_prop\n",
    "    p_bar = p_bar/(sample1_size+sample2_size)\n",
    "    combined_sd = p_bar*(1-p_bar)*(1/sample1_size + 1/sample2_size)\n",
    "    combined_sd = np.sqrt(combined_sd)\n",
    "    z_val = (sample1_prop-sample2_prop)/combined_sd\n",
    "    return z_val"
   ]
  },
  {
   "cell_type": "code",
   "execution_count": 34,
   "id": "4b6a0fad",
   "metadata": {},
   "outputs": [],
   "source": [
    "sample1_prop = 27/100\n",
    "sample2_prop = 19/100\n",
    "sample1_size = 100\n",
    "sample2_size = 100"
   ]
  },
  {
   "cell_type": "code",
   "execution_count": 40,
   "id": "d773df3e",
   "metadata": {},
   "outputs": [
    {
     "name": "stdout",
     "output_type": "stream",
     "text": [
      "Z-value 1.3442056254198995\n",
      "P-value 0.17888190308175567\n"
     ]
    }
   ],
   "source": [
    "#p-value approach\n",
    "z_val = cal_z_value_2samp_prop(sample1_prop,sample2_prop,sample1_size,\n",
    "                             sample2_size)\n",
    "print(\"Z-value\",z_val)\n",
    "p_val = cal_p_value(z_val)\n",
    "print(\"P-value\",p_val*2)"
   ]
  },
  {
   "cell_type": "code",
   "execution_count": null,
   "id": "45c06fe5",
   "metadata": {},
   "outputs": [],
   "source": []
  }
 ],
 "metadata": {
  "kernelspec": {
   "display_name": "Python 3",
   "language": "python",
   "name": "python3"
  },
  "language_info": {
   "codemirror_mode": {
    "name": "ipython",
    "version": 3
   },
   "file_extension": ".py",
   "mimetype": "text/x-python",
   "name": "python",
   "nbconvert_exporter": "python",
   "pygments_lexer": "ipython3",
   "version": "3.8.8"
  }
 },
 "nbformat": 4,
 "nbformat_minor": 5
}
