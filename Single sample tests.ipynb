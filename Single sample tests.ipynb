{
 "cells": [
  {
   "cell_type": "code",
   "execution_count": 1,
   "id": "a8fa4248",
   "metadata": {},
   "outputs": [],
   "source": [
    "import numpy as np\n",
    "from scipy import stats\n",
    "import pandas as pd"
   ]
  },
  {
   "cell_type": "code",
   "execution_count": 10,
   "id": "d9f089ea",
   "metadata": {},
   "outputs": [],
   "source": [
    "#1 sample\n",
    "#Test of population mean, Population sd known\n",
    "#one-tailed test\n",
    "def cal_z_score_1samp(sample_mean,pop_mean,sample_size,\n",
    "                      pop_sd):\n",
    "    sample_sd = pop_sd/np.sqrt(sample_size)\n",
    "    z_score = (sample_mean-pop_mean)/sample_sd\n",
    "    return z_score\n",
    "\n",
    "def cal_p_value(z_value):\n",
    "    if z_value <= 0:\n",
    "        p_val = stats.norm.cdf(z_value)\n",
    "    else:\n",
    "        p_val = 1 - stats.norm.cdf(z_value)\n",
    "        \n",
    "    return p_val\n",
    "\n",
    "def cal_critical_value(confidence,flag):\n",
    "    if flag==True:\n",
    "        critical_val = stats.norm.ppf(confidence)\n",
    "    else:\n",
    "        critical_val = stats.norm.ppf(1-confidence)\n",
    "    \n",
    "    return critical_val"
   ]
  },
  {
   "cell_type": "code",
   "execution_count": 8,
   "id": "c299710d",
   "metadata": {},
   "outputs": [],
   "source": [
    "sample_mean = 32\n",
    "pop_mean = 30\n",
    "pop_sd = 10\n",
    "sample_size = 30\n",
    "alpha = 0.05\n",
    "flag = False"
   ]
  },
  {
   "cell_type": "code",
   "execution_count": 6,
   "id": "5cdb9f28",
   "metadata": {},
   "outputs": [
    {
     "name": "stdout",
     "output_type": "stream",
     "text": [
      "Z-value 1.0954451150103321\n",
      "P-value 0.13666083914614902\n",
      "We do not reject null hypothesis\n"
     ]
    }
   ],
   "source": [
    "#P-value approach\n",
    "z_val = cal_z_score_1samp(sample_mean,pop_mean,sample_size,\n",
    "                          pop_sd)\n",
    "print(\"Z-value\",z_val)\n",
    "p_val = cal_p_value(z_val)\n",
    "print(\"P-value\",p_val)\n",
    "if p_val < alpha:\n",
    "    print(\"We reject null hypothesis\")\n",
    "else:\n",
    "    print(\"We do not reject null hypothesis\")"
   ]
  },
  {
   "cell_type": "code",
   "execution_count": 11,
   "id": "0a72c504",
   "metadata": {},
   "outputs": [
    {
     "name": "stdout",
     "output_type": "stream",
     "text": [
      "1.6448536269514722\n"
     ]
    }
   ],
   "source": [
    "#Critical value approach\n",
    "critical_val = cal_critical_value(alpha,flag)\n",
    "print(critical_val)"
   ]
  },
  {
   "cell_type": "code",
   "execution_count": 12,
   "id": "3a99f98d",
   "metadata": {},
   "outputs": [],
   "source": [
    "#Test of population mean\n",
    "#Two-tail test\n",
    "sample_mean = 505\n",
    "pop_mean = 500\n",
    "pop_sd = 10\n",
    "sample_size = 30\n",
    "alpha = 0.03"
   ]
  },
  {
   "cell_type": "code",
   "execution_count": 14,
   "id": "fb8dcd3c",
   "metadata": {},
   "outputs": [
    {
     "name": "stdout",
     "output_type": "stream",
     "text": [
      "Z-value 2.7386127875258306\n",
      "P-value 0.0030849496602720627\n",
      "We reject null hypothesis\n"
     ]
    }
   ],
   "source": [
    "#p-value approach\n",
    "z_val = cal_z_score_1samp(sample_mean,pop_mean,sample_size,\n",
    "                          pop_sd)\n",
    "print(\"Z-value\",z_val)\n",
    "p_val = cal_p_value(z_val)\n",
    "print(\"P-value\",p_val)\n",
    "if p_val < alpha/2:\n",
    "    print(\"We reject null hypothesis\")\n",
    "else:\n",
    "    print(\"We do not reject null hypothesis\")"
   ]
  },
  {
   "cell_type": "code",
   "execution_count": 15,
   "id": "ed25967a",
   "metadata": {},
   "outputs": [
    {
     "name": "stdout",
     "output_type": "stream",
     "text": [
      "-2.1700903775845606\n"
     ]
    }
   ],
   "source": [
    "#Critical-value approach\n",
    "critical_val = cal_critical_value(alpha/2,flag = True)\n",
    "print(critical_val)"
   ]
  },
  {
   "cell_type": "code",
   "execution_count": 18,
   "id": "250d23ab",
   "metadata": {},
   "outputs": [
    {
     "data": {
      "text/html": [
       "<div>\n",
       "<style scoped>\n",
       "    .dataframe tbody tr th:only-of-type {\n",
       "        vertical-align: middle;\n",
       "    }\n",
       "\n",
       "    .dataframe tbody tr th {\n",
       "        vertical-align: top;\n",
       "    }\n",
       "\n",
       "    .dataframe thead th {\n",
       "        text-align: right;\n",
       "    }\n",
       "</style>\n",
       "<table border=\"1\" class=\"dataframe\">\n",
       "  <thead>\n",
       "    <tr style=\"text-align: right;\">\n",
       "      <th></th>\n",
       "      <th>Day</th>\n",
       "      <th>Number of ice cream sold</th>\n",
       "    </tr>\n",
       "  </thead>\n",
       "  <tbody>\n",
       "    <tr>\n",
       "      <th>0</th>\n",
       "      <td>1</td>\n",
       "      <td>13</td>\n",
       "    </tr>\n",
       "    <tr>\n",
       "      <th>1</th>\n",
       "      <td>2</td>\n",
       "      <td>8</td>\n",
       "    </tr>\n",
       "    <tr>\n",
       "      <th>2</th>\n",
       "      <td>3</td>\n",
       "      <td>10</td>\n",
       "    </tr>\n",
       "    <tr>\n",
       "      <th>3</th>\n",
       "      <td>4</td>\n",
       "      <td>10</td>\n",
       "    </tr>\n",
       "    <tr>\n",
       "      <th>4</th>\n",
       "      <td>5</td>\n",
       "      <td>8</td>\n",
       "    </tr>\n",
       "  </tbody>\n",
       "</table>\n",
       "</div>"
      ],
      "text/plain": [
       "   Day  Number of ice cream sold\n",
       "0    1                        13\n",
       "1    2                         8\n",
       "2    3                        10\n",
       "3    4                        10\n",
       "4    5                         8"
      ]
     },
     "execution_count": 18,
     "metadata": {},
     "output_type": "execute_result"
    }
   ],
   "source": [
    "#Test of population mean, Population sd unknown\n",
    "path = 'icecream sale data.xlsx'\n",
    "df_icecream = pd.read_excel(path,engine = 'openpyxl')\n",
    "def cal_z_value_1samp_sd_unknown(sample_mean,pop_mean,sample_sd,\n",
    "                                 sample_size):\n",
    "    combined_sd = sample_sd/np.sqrt(sample_size)\n",
    "    z_val = (sample_mean-pop_mean)/combined_sd\n",
    "    return z_val\n",
    "df_icecream.head()"
   ]
  },
  {
   "cell_type": "code",
   "execution_count": 23,
   "id": "39e34a32",
   "metadata": {},
   "outputs": [
    {
     "name": "stdout",
     "output_type": "stream",
     "text": [
      "[13  8 10 10  8  9 10 11  6  8 12 11 11 12 10 12  7 10 11  8]\n"
     ]
    }
   ],
   "source": [
    "x = df_icecream['Number of ice cream sold'].values\n",
    "sample_mean = np.mean(x)\n",
    "sample_sd = np.std(x)\n",
    "sample_size = len(x)\n",
    "dof = sample_size-1\n",
    "alpha = 0.05\n",
    "pop_mean = 10\n",
    "print(x)"
   ]
  },
  {
   "cell_type": "code",
   "execution_count": 24,
   "id": "e0c14939",
   "metadata": {},
   "outputs": [
    {
     "name": "stdout",
     "output_type": "stream",
     "text": [
      "Z-value -0.3677453795254057\n",
      "P-value 0.35653155000268266\n"
     ]
    }
   ],
   "source": [
    "z_val = cal_z_value_1samp_sd_unknown(sample_mean,pop_mean,sample_sd,\n",
    "                                   sample_size)\n",
    "print(\"Z-value\",z_val)\n",
    "p_val = cal_p_value(z_val)\n",
    "print(\"P-value\",p_val)"
   ]
  },
  {
   "cell_type": "code",
   "execution_count": 25,
   "id": "e4925685",
   "metadata": {},
   "outputs": [
    {
     "name": "stdout",
     "output_type": "stream",
     "text": [
      "-1.7291328115213678\n"
     ]
    }
   ],
   "source": [
    "critical_z_value = stats.t.ppf(alpha,dof)\n",
    "print(critical_z_value)"
   ]
  },
  {
   "cell_type": "code",
   "execution_count": 26,
   "id": "ce3ce9c7",
   "metadata": {},
   "outputs": [
    {
     "data": {
      "text/plain": [
       "Ttest_1sampResult(statistic=-0.35843385854878496, pvalue=0.7239703579964252)"
      ]
     },
     "execution_count": 26,
     "metadata": {},
     "output_type": "execute_result"
    }
   ],
   "source": [
    "#direct method\n",
    "stats.ttest_1samp(x,pop_mean)"
   ]
  },
  {
   "cell_type": "code",
   "execution_count": 27,
   "id": "206ba763",
   "metadata": {},
   "outputs": [],
   "source": [
    "#Population proportion test\n",
    "def cal_z_value_1samp_prop(sample_prop,pop_prop,\n",
    "                               sample_size):\n",
    "    sample_sd = np.sqrt(pop_prop*(1-pop_prop)/sample_size)\n",
    "    z_val = (sample_prop-pop_prop)/sample_sd\n",
    "    return z_val\n",
    "\n",
    "count = 67\n",
    "sample_size = 120\n",
    "sample_prop = count/sample_size\n",
    "pop_prop = 0.5\n",
    "alpha = 0.05"
   ]
  },
  {
   "cell_type": "code",
   "execution_count": 28,
   "id": "aa916a4f",
   "metadata": {},
   "outputs": [
    {
     "name": "stdout",
     "output_type": "stream",
     "text": [
      "Z-value 1.278019300845388\n",
      "P-value 0.10062131047886202\n"
     ]
    }
   ],
   "source": [
    "z_val = cal_z_value_1samp_prop(sample_prop,pop_prop,sample_size)\n",
    "print(\"Z-value\",z_val)\n",
    "p_val = cal_p_value(z_val)\n",
    "print(\"P-value\",p_val)"
   ]
  },
  {
   "cell_type": "code",
   "execution_count": 30,
   "id": "50c018b0",
   "metadata": {},
   "outputs": [
    {
     "data": {
      "text/plain": [
       "(1.286806739751111, 0.1981616572238455)"
      ]
     },
     "execution_count": 30,
     "metadata": {},
     "output_type": "execute_result"
    }
   ],
   "source": [
    "#direct method\n",
    "from statsmodels.stats.proportion import proportions_ztest\n",
    "proportions_ztest(count,sample_size,pop_prop)"
   ]
  }
 ],
 "metadata": {
  "kernelspec": {
   "display_name": "Python 3",
   "language": "python",
   "name": "python3"
  },
  "language_info": {
   "codemirror_mode": {
    "name": "ipython",
    "version": 3
   },
   "file_extension": ".py",
   "mimetype": "text/x-python",
   "name": "python",
   "nbconvert_exporter": "python",
   "pygments_lexer": "ipython3",
   "version": "3.8.8"
  }
 },
 "nbformat": 4,
 "nbformat_minor": 5
}
