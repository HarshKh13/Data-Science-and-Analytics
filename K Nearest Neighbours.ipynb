{
 "cells": [
  {
   "cell_type": "code",
   "execution_count": 9,
   "id": "f248ae9e",
   "metadata": {},
   "outputs": [],
   "source": [
    "#K nearest neighbours implementation from scratch\n",
    "import numpy as np\n",
    "import matplotlib.pyplot as plt\n",
    "import pandas as pd\n",
    "from collections import Counter\n",
    "from sklearn.model_selection import train_test_split\n",
    "from sklearn.metrics import accuracy_score\n",
    "from numpy.linalg import norm"
   ]
  },
  {
   "cell_type": "code",
   "execution_count": 15,
   "id": "1f8dfc7e",
   "metadata": {},
   "outputs": [],
   "source": [
    "def knn(query_example,x_train,y_train,k):\n",
    "    distances_and_labels = []\n",
    "    for index,example in enumerate(x_train):\n",
    "        distance = (example-query_example)\n",
    "        distance = norm(distance)\n",
    "        label = y_train[index]\n",
    "        distances_and_labels.append((distance,label))\n",
    "        \n",
    "    sorted_distances_and_labels = sorted(distances_and_labels)\n",
    "    k_nearest_distances_and_labels = np.array(sorted_distances_and_labels[:k])\n",
    "    k_nearest_labels = k_nearest_distances_and_labels[:,-1]\n",
    "    pred_label = Counter(k_nearest_labels).most_common(1)[0][0]\n",
    "    return pred_label"
   ]
  },
  {
   "cell_type": "code",
   "execution_count": 4,
   "id": "7f33ddcd",
   "metadata": {},
   "outputs": [
    {
     "data": {
      "text/html": [
       "<div>\n",
       "<style scoped>\n",
       "    .dataframe tbody tr th:only-of-type {\n",
       "        vertical-align: middle;\n",
       "    }\n",
       "\n",
       "    .dataframe tbody tr th {\n",
       "        vertical-align: top;\n",
       "    }\n",
       "\n",
       "    .dataframe thead th {\n",
       "        text-align: right;\n",
       "    }\n",
       "</style>\n",
       "<table border=\"1\" class=\"dataframe\">\n",
       "  <thead>\n",
       "    <tr style=\"text-align: right;\">\n",
       "      <th></th>\n",
       "      <th>fixed acidity</th>\n",
       "      <th>volatile acidity</th>\n",
       "      <th>citric acid</th>\n",
       "      <th>residual sugar</th>\n",
       "      <th>chlorides</th>\n",
       "      <th>free sulfur dioxide</th>\n",
       "      <th>total sulfur dioxide</th>\n",
       "      <th>density</th>\n",
       "      <th>pH</th>\n",
       "      <th>sulphates</th>\n",
       "      <th>alcohol</th>\n",
       "      <th>quality</th>\n",
       "    </tr>\n",
       "  </thead>\n",
       "  <tbody>\n",
       "    <tr>\n",
       "      <th>0</th>\n",
       "      <td>7.4</td>\n",
       "      <td>0.70</td>\n",
       "      <td>0.00</td>\n",
       "      <td>1.9</td>\n",
       "      <td>0.076</td>\n",
       "      <td>11.0</td>\n",
       "      <td>34.0</td>\n",
       "      <td>0.9978</td>\n",
       "      <td>3.51</td>\n",
       "      <td>0.56</td>\n",
       "      <td>9.4</td>\n",
       "      <td>5</td>\n",
       "    </tr>\n",
       "    <tr>\n",
       "      <th>1</th>\n",
       "      <td>7.8</td>\n",
       "      <td>0.88</td>\n",
       "      <td>0.00</td>\n",
       "      <td>2.6</td>\n",
       "      <td>0.098</td>\n",
       "      <td>25.0</td>\n",
       "      <td>67.0</td>\n",
       "      <td>0.9968</td>\n",
       "      <td>3.20</td>\n",
       "      <td>0.68</td>\n",
       "      <td>9.8</td>\n",
       "      <td>5</td>\n",
       "    </tr>\n",
       "    <tr>\n",
       "      <th>2</th>\n",
       "      <td>7.8</td>\n",
       "      <td>0.76</td>\n",
       "      <td>0.04</td>\n",
       "      <td>2.3</td>\n",
       "      <td>0.092</td>\n",
       "      <td>15.0</td>\n",
       "      <td>54.0</td>\n",
       "      <td>0.9970</td>\n",
       "      <td>3.26</td>\n",
       "      <td>0.65</td>\n",
       "      <td>9.8</td>\n",
       "      <td>5</td>\n",
       "    </tr>\n",
       "    <tr>\n",
       "      <th>3</th>\n",
       "      <td>11.2</td>\n",
       "      <td>0.28</td>\n",
       "      <td>0.56</td>\n",
       "      <td>1.9</td>\n",
       "      <td>0.075</td>\n",
       "      <td>17.0</td>\n",
       "      <td>60.0</td>\n",
       "      <td>0.9980</td>\n",
       "      <td>3.16</td>\n",
       "      <td>0.58</td>\n",
       "      <td>9.8</td>\n",
       "      <td>6</td>\n",
       "    </tr>\n",
       "    <tr>\n",
       "      <th>4</th>\n",
       "      <td>7.4</td>\n",
       "      <td>0.70</td>\n",
       "      <td>0.00</td>\n",
       "      <td>1.9</td>\n",
       "      <td>0.076</td>\n",
       "      <td>11.0</td>\n",
       "      <td>34.0</td>\n",
       "      <td>0.9978</td>\n",
       "      <td>3.51</td>\n",
       "      <td>0.56</td>\n",
       "      <td>9.4</td>\n",
       "      <td>5</td>\n",
       "    </tr>\n",
       "  </tbody>\n",
       "</table>\n",
       "</div>"
      ],
      "text/plain": [
       "   fixed acidity  volatile acidity  citric acid  residual sugar  chlorides  \\\n",
       "0            7.4              0.70         0.00             1.9      0.076   \n",
       "1            7.8              0.88         0.00             2.6      0.098   \n",
       "2            7.8              0.76         0.04             2.3      0.092   \n",
       "3           11.2              0.28         0.56             1.9      0.075   \n",
       "4            7.4              0.70         0.00             1.9      0.076   \n",
       "\n",
       "   free sulfur dioxide  total sulfur dioxide  density    pH  sulphates  \\\n",
       "0                 11.0                  34.0   0.9978  3.51       0.56   \n",
       "1                 25.0                  67.0   0.9968  3.20       0.68   \n",
       "2                 15.0                  54.0   0.9970  3.26       0.65   \n",
       "3                 17.0                  60.0   0.9980  3.16       0.58   \n",
       "4                 11.0                  34.0   0.9978  3.51       0.56   \n",
       "\n",
       "   alcohol  quality  \n",
       "0      9.4        5  \n",
       "1      9.8        5  \n",
       "2      9.8        5  \n",
       "3      9.8        6  \n",
       "4      9.4        5  "
      ]
     },
     "execution_count": 4,
     "metadata": {},
     "output_type": "execute_result"
    }
   ],
   "source": [
    "path = 'winequality-red.csv'\n",
    "df = pd.read_csv(path)\n",
    "df.head()"
   ]
  },
  {
   "cell_type": "code",
   "execution_count": 5,
   "id": "99091e79",
   "metadata": {},
   "outputs": [],
   "source": [
    "x = df.iloc[:,:-1].values\n",
    "y = df.iloc[:,-1].values"
   ]
  },
  {
   "cell_type": "code",
   "execution_count": 19,
   "id": "e9f434c7",
   "metadata": {},
   "outputs": [
    {
     "name": "stdout",
     "output_type": "stream",
     "text": [
      "[6 5 5 6 6 6 6 6 5 5 5 5 5 6 6 5 6 5 5 7 5 6 5 6 5 7 6 6 5 5 6 5 5 5 5 6 5\n",
      " 6 5 6 7 5 5 6 5 6 6 5 5 7 5 5 6 6 5 6 5 6 6 6 5 6 6 7 5 5 5 6 6 6 5 6 6 5\n",
      " 5 6 7 6 5 5 7 6 5 5 7 5 5 5 6 5 5 6 5 7 5 6 5 6 6 5 6 6 7 5 6 6 5 6 5 5 5\n",
      " 7 6 6 5 5 5 6 5 5 5 5 7 7 6 7 5 5 5 5 5 6 5 6 5 6 5 6 5 6 5 6 5 6 6 5 6 5\n",
      " 7 5 5 6 5 5 5 6 6 5 5 5 7 5 6 6 6 6 5 6 6 6 6 6 5 5 7 5 5 5 5 5 5 5 6 6 6\n",
      " 6 7 5 5 6 5 6 5 7 6 5 6 5 6 6 5 6 6 5 7 6 6 6 7 6 6 6 5 6 5 5 6 7 5 5 5 6\n",
      " 5 6 5 6 5 6 5 6 6 6 5 7 5 6 5 5 6 5 5 5 6 5 6 5 6 6 5 7 7 6 6 5 6 5 6 5 6\n",
      " 6 5 6 6 6 7 7 6 5 5 6 5 7 5 6 5 5 6 5 6 5 5 5 6 6 6 5 5 6 5 5 5 5 6 5 6 6\n",
      " 5 6 6 4 7 7 6 6 7 5 6 5 7 6 5 6 4 6 6 6 6 6 6 5 5 5 5 5 6 5 6 6 6 6 6 6 5\n",
      " 7 5 5 5 6 5 6 5 6 5 6 6 5 6 5 5 6 7 6 6 6 7 6 6 6 6 6 6 6 6 5 6 7 5 6 5 4\n",
      " 5 6 7 6 5 6 5 5 5 6 5 6 5 6 5 7 5 5 6 5 5 5 4 6 5 6 6 5 5 6]\n"
     ]
    }
   ],
   "source": [
    "x_train,x_test,y_train,y_test = train_test_split(x,y,test_size = 0.25)\n",
    "y_pred = []\n",
    "k = 5\n",
    "for query_example in x_test:\n",
    "    pred_label = knn(query_example,x_train,y_train,k)\n",
    "    y_pred.append(pred_label)\n",
    "    \n",
    "y_pred = np.array(y_pred)\n",
    "y_pred = y_pred.astype('uint8')\n",
    "print(y_pred)"
   ]
  },
  {
   "cell_type": "code",
   "execution_count": 18,
   "id": "a926d1cd",
   "metadata": {},
   "outputs": [
    {
     "name": "stdout",
     "output_type": "stream",
     "text": [
      "[5 6 5 5 5 6 6 6 7 5 7 6 5 6 6 5 6 5 5 5 6 6 5 6 6 5 6 5 6 5 6 6 5 6 5 5 7\n",
      " 5 6 5 6 5 5 6 5 6 6 3 5 6 5 6 5 6 6 6 5 6 6 5 5 5 7 6 5 5 6 6 6 5 6 6 6 5\n",
      " 5 5 6 5 6 5 5 5 5 6 6 6 7 5 5 5 5 5 7 8 5 5 7 6 6 6 6 5 5 8 5 5 6 6 5 5 6\n",
      " 5 5 6 6 5 7 5 7 6 6 5 5 5 5 6 5 6 5 5 5 5 5 6 5 6 6 8 7 4 6 7 5 6 5 6 6 5\n",
      " 5 7 6 6 6 5 6 5 6 5 6 5 5 6 5 6 5 5 6 7 5 5 6 7 7 5 5 6 6 5 6 6 5 6 7 6 5\n",
      " 7 5 5 5 4 3 5 7 5 5 5 5 6 5 5 5 6 5 5 6 5 5 6 6 6 5 5 5 5 7 5 5 6 5 5 5 5\n",
      " 7 7 5 7 5 5 5 6 6 6 6 7 6 5 6 5 3 6 5 5 6 6 5 6 6 5 5 5 6 5 6 6 6 6 4 7 7\n",
      " 6 5 6 5 6 5 6 5 5 6 5 5 5 4 7 6 5 6 5 5 5 6 7 5 5 5 4 5 5 5 7 6 5 6 6 7 6\n",
      " 7 5 6 6 6 5 5 6 6 5 6 6 5 6 6 6 6 5 7 5 5 6 5 6 5 5 5 5 5 7 7 5 5 6 5 6 7\n",
      " 4 6 7 7 7 6 5 6 6 5 5 6 6 5 4 7 5 6 7 6 5 5 7 6 6 4 5 6 5 5 7 5 6 6 6 6 5\n",
      " 7 6 6 5 5 5 7 6 5 6 5 5 5 5 6 5 5 4 5 5 7 7 5 7 6 7 4 6 5 5]\n"
     ]
    }
   ],
   "source": [
    "print(y_test)"
   ]
  },
  {
   "cell_type": "code",
   "execution_count": 27,
   "id": "4a19eaf8",
   "metadata": {},
   "outputs": [
    {
     "name": "stdout",
     "output_type": "stream",
     "text": [
      "Accuracy 0.48\n"
     ]
    }
   ],
   "source": [
    "accuracy = 0\n",
    "for i in range(len(y_pred)):\n",
    "    if(y_pred[i] == y_test[i]):\n",
    "        accuracy = accuracy + 1\n",
    "\n",
    "accuracy = accuracy/100\n",
    "print(\"Accuracy\",accuracy_score)"
   ]
  },
  {
   "cell_type": "code",
   "execution_count": 25,
   "id": "a85fb8b1",
   "metadata": {},
   "outputs": [
    {
     "name": "stdout",
     "output_type": "stream",
     "text": [
      "Accuracy 0.48\n"
     ]
    }
   ],
   "source": [
    "#Knearest neighbours using sklearn\n",
    "from sklearn.neighbors import KNeighborsClassifier\n",
    "knn = KNeighborsClassifier(n_neighbors = 7)\n",
    "knn.fit(x_train,y_train)\n",
    "accuracy_score = knn.score(x_test,y_test)\n",
    "print(\"Accuracy\",accuracy_score)"
   ]
  },
  {
   "cell_type": "code",
   "execution_count": 28,
   "id": "9adca478",
   "metadata": {},
   "outputs": [],
   "source": [
    "#Finding the best k value\n",
    "nearest_neighbours = np.arange(1,9)\n",
    "train_accuracy = np.empty(len(nearest_neighbours))\n",
    "test_accuracy = np.empty(len(nearest_neighbours))"
   ]
  },
  {
   "cell_type": "code",
   "execution_count": 30,
   "id": "663f99ac",
   "metadata": {},
   "outputs": [],
   "source": [
    "for i,k in enumerate(nearest_neighbours):\n",
    "    knn = KNeighborsClassifier(n_neighbors = k)\n",
    "    knn.fit(x_train,y_train)\n",
    "    \n",
    "    temp_train_acc = knn.score(x_train,y_train)\n",
    "    temp_test_acc = knn.score(x_test,y_test)\n",
    "    train_accuracy[i] = temp_train_acc\n",
    "    test_accuracy[i] = temp_test_acc"
   ]
  },
  {
   "cell_type": "code",
   "execution_count": 32,
   "id": "85414acb",
   "metadata": {},
   "outputs": [
    {
     "name": "stdout",
     "output_type": "stream",
     "text": [
      "[1.         0.78732277 0.74895746 0.67806505 0.65804837 0.63969975\n",
      " 0.62385321 0.60550459]\n",
      "[0.55   0.5075 0.485  0.505  0.4725 0.4925 0.48   0.505 ]\n"
     ]
    }
   ],
   "source": [
    "print(train_accuracy)\n",
    "print(test_accuracy)"
   ]
  },
  {
   "cell_type": "code",
   "execution_count": 33,
   "id": "283bbb65",
   "metadata": {},
   "outputs": [
    {
     "data": {
      "image/png": "[encoded data removed]",
      "text/plain": [
       "<Figure size 432x288 with 1 Axes>"
      ]
     },
     "metadata": {
      "needs_background": "light"
     },
     "output_type": "display_data"
    }
   ],
   "source": [
    "plt.plot(nearest_neighbours,train_accuracy,label = 'Training data accuracy')\n",
    "plt.plot(nearest_neighbours,test_accuracy,label = 'Test data accuracy')\n",
    "plt.legend()\n",
    "plt.xlabel('num_neighbours')\n",
    "plt.ylabel('Accuracy')\n",
    "plt.show()"
   ]
  }
 ],
 "metadata": {
  "kernelspec": {
   "display_name": "Python 3",
   "language": "python",
   "name": "python3"
  },
  "language_info": {
   "codemirror_mode": {
    "name": "ipython",
    "version": 3
   },
   "file_extension": ".py",
   "mimetype": "text/x-python",
   "name": "python",
   "nbconvert_exporter": "python",
   "pygments_lexer": "ipython3",
   "version": "3.8.8"
  }
 },
 "nbformat": 4,
 "nbformat_minor": 5
}
